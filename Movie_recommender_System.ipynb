{
  "metadata": {
    "kernelspec": {
      "language": "python",
      "display_name": "Python 3",
      "name": "python3"
    },
    "language_info": {
      "name": "python",
      "version": "3.7.10",
      "mimetype": "text/x-python",
      "codemirror_mode": {
        "name": "ipython",
        "version": 3
      },
      "pygments_lexer": "ipython3",
      "nbconvert_exporter": "python",
      "file_extension": ".py"
    },
    "colab": {
      "provenance": []
    }
  },
  "nbformat_minor": 0,
  "nbformat": 4,
  "cells": [
    {
      "cell_type": "code",
      "source": [
        "# This Python 3 environment comes with many helpful analytics libraries installed\n",
        "# It is defined by the kaggle/python Docker image: https://github.com/kaggle/docker-python\n",
        "# For example, here's several helpful packages to load\n",
        "\n",
        "import numpy as np # linear algebra\n",
        "import pandas as pd # data processing, CSV file I/O (e.g. pd.read_csv)\n",
        "\n",
        "# Input data files are available in the read-only \"../input/\" directory\n",
        "# For example, running this (by clicking run or pressing Shift+Enter) will list all files under the input directory\n",
        "\n",
        "import os\n",
        "for dirname, _, filenames in os.walk('/kaggle/input'):\n",
        "    for filename in filenames:\n",
        "        print(os.path.join(dirname, filename))\n",
        "\n"
      ],
      "metadata": {
        "_uuid": "8f2839f25d086af736a60e9eeb907d3b93b6e0e5",
        "_cell_guid": "b1076dfc-b9ad-4769-8c92-a6c4dae69d19",
        "execution": {
          "iopub.status.busy": "2021-06-21T12:32:55.393741Z",
          "iopub.execute_input": "2021-06-21T12:32:55.394360Z",
          "iopub.status.idle": "2021-06-21T12:32:55.415999Z",
          "shell.execute_reply.started": "2021-06-21T12:32:55.394257Z",
          "shell.execute_reply": "2021-06-21T12:32:55.414664Z"
        },
        "trusted": true,
        "id": "C1ct0ziMA2rj"
      },
      "execution_count": 1,
      "outputs": []
    },
    {
      "cell_type": "code",
      "source": [
        "# Loading movie data from CSV files\n",
        "movies = pd.read_csv('/content/tmdb_5000_credits.csv')\n",
        "credits = pd.read_csv('/content/tmdb_5000_movies.csv')"
      ],
      "metadata": {
        "execution": {
          "iopub.status.busy": "2021-06-21T12:36:31.347717Z",
          "iopub.execute_input": "2021-06-21T12:36:31.348105Z",
          "iopub.status.idle": "2021-06-21T12:36:32.003856Z",
          "shell.execute_reply.started": "2021-06-21T12:36:31.348073Z",
          "shell.execute_reply": "2021-06-21T12:36:32.002744Z"
        },
        "trusted": true,
        "id": "Azjm_9nDA2rq"
      },
      "execution_count": 2,
      "outputs": []
    },
    {
      "cell_type": "code",
      "source": [
        "# Display the first 2 rows of the movies DataFrame\n",
        "movies.head(2)"
      ],
      "metadata": {
        "execution": {
          "iopub.status.busy": "2021-06-21T12:36:33.757346Z",
          "iopub.execute_input": "2021-06-21T12:36:33.757778Z",
          "iopub.status.idle": "2021-06-21T12:36:33.781729Z",
          "shell.execute_reply.started": "2021-06-21T12:36:33.757743Z",
          "shell.execute_reply": "2021-06-21T12:36:33.780738Z"
        },
        "trusted": true,
        "id": "v7ZdEnQoA2rr"
      },
      "execution_count": null,
      "outputs": []
    },
    {
      "cell_type": "code",
      "source": [
        "# Check the shape of the movies DataFrame\n",
        "movies.shape"
      ],
      "metadata": {
        "execution": {
          "iopub.status.busy": "2021-06-21T12:33:06.307921Z",
          "iopub.execute_input": "2021-06-21T12:33:06.308311Z",
          "iopub.status.idle": "2021-06-21T12:33:06.316052Z",
          "shell.execute_reply.started": "2021-06-21T12:33:06.308279Z",
          "shell.execute_reply": "2021-06-21T12:33:06.314903Z"
        },
        "trusted": true,
        "id": "IZO7kCxZA2rr",
        "outputId": "c3d9091e-bafa-4bfe-b413-3d565aedee9c"
      },
      "execution_count": null,
      "outputs": [
        {
          "execution_count": 4,
          "output_type": "execute_result",
          "data": {
            "text/plain": "(4803, 20)"
          },
          "metadata": {}
        }
      ]
    },
    {
      "cell_type": "code",
      "source": [
        "\n",
        "# Display the first few rows of the credits DataFram\n",
        "credits.head()"
      ],
      "metadata": {
        "execution": {
          "iopub.status.busy": "2021-06-21T12:33:08.787389Z",
          "iopub.execute_input": "2021-06-21T12:33:08.787791Z",
          "iopub.status.idle": "2021-06-21T12:33:08.800864Z",
          "shell.execute_reply.started": "2021-06-21T12:33:08.787758Z",
          "shell.execute_reply": "2021-06-21T12:33:08.799834Z"
        },
        "trusted": true,
        "id": "QfgpKNnvA2rr"
      },
      "execution_count": null,
      "outputs": []
    },
    {
      "cell_type": "code",
      "source": [
        "# Merge movies and credits DataFrames on the 'title' column\n",
        "movies = movies.merge(credits,on='title')"
      ],
      "metadata": {
        "execution": {
          "iopub.status.busy": "2021-06-21T12:36:38.686521Z",
          "iopub.execute_input": "2021-06-21T12:36:38.687005Z",
          "iopub.status.idle": "2021-06-21T12:36:38.713343Z",
          "shell.execute_reply.started": "2021-06-21T12:36:38.686963Z",
          "shell.execute_reply": "2021-06-21T12:36:38.711939Z"
        },
        "trusted": true,
        "id": "ESM1c27XA2rr"
      },
      "execution_count": 4,
      "outputs": []
    },
    {
      "cell_type": "code",
      "source": [
        "movies.head()\n",
        "# budget\n",
        "# homepage\n",
        "# id\n",
        "# original_language\n",
        "# original_title\n",
        "# popularity\n",
        "# production_comapny\n",
        "# production_countries\n",
        "# release-date(not sure)"
      ],
      "metadata": {
        "execution": {
          "iopub.status.busy": "2021-06-19T12:48:23.470187Z",
          "iopub.execute_input": "2021-06-19T12:48:23.470754Z",
          "iopub.status.idle": "2021-06-19T12:48:23.5041Z",
          "shell.execute_reply.started": "2021-06-19T12:48:23.470724Z",
          "shell.execute_reply": "2021-06-19T12:48:23.503327Z"
        },
        "trusted": true,
        "id": "fokwMByQA2rr"
      },
      "execution_count": null,
      "outputs": []
    },
    {
      "cell_type": "code",
      "source": [
        "# Select relevant columns from the merged DataFrame\n",
        "movies = movies[['movie_id','title','overview','genres','keywords','cast','crew']]"
      ],
      "metadata": {
        "execution": {
          "iopub.status.busy": "2021-06-21T12:36:41.393326Z",
          "iopub.execute_input": "2021-06-21T12:36:41.393733Z",
          "iopub.status.idle": "2021-06-21T12:36:41.406883Z",
          "shell.execute_reply.started": "2021-06-21T12:36:41.393699Z",
          "shell.execute_reply": "2021-06-21T12:36:41.405822Z"
        },
        "trusted": true,
        "id": "MeNmmL99A2rr"
      },
      "execution_count": 6,
      "outputs": []
    },
    {
      "cell_type": "code",
      "source": [
        "#This function evaluates an expression node or a string consisting of a Python literal or container display.\n",
        "import ast"
      ],
      "metadata": {
        "execution": {
          "iopub.status.busy": "2021-06-21T12:34:19.382331Z",
          "iopub.execute_input": "2021-06-21T12:34:19.382856Z",
          "iopub.status.idle": "2021-06-21T12:34:19.387416Z",
          "shell.execute_reply.started": "2021-06-21T12:34:19.382822Z",
          "shell.execute_reply": "2021-06-21T12:34:19.386451Z"
        },
        "trusted": true,
        "id": "_9IYnmHaA2rs"
      },
      "execution_count": 8,
      "outputs": []
    },
    {
      "cell_type": "code",
      "source": [
        "# Function to convert text data (string representation of list of dictionaries) to list of names\n",
        "def convert(text):\n",
        "    L = []\n",
        "    for i in ast.literal_eval(text):\n",
        "        L.append(i['name'])\n",
        "    return L"
      ],
      "metadata": {
        "execution": {
          "iopub.status.busy": "2021-06-21T12:36:47.539904Z",
          "iopub.execute_input": "2021-06-21T12:36:47.540453Z",
          "iopub.status.idle": "2021-06-21T12:36:47.545014Z",
          "shell.execute_reply.started": "2021-06-21T12:36:47.540418Z",
          "shell.execute_reply": "2021-06-21T12:36:47.544243Z"
        },
        "trusted": true,
        "id": "CwUfrUIgA2rs"
      },
      "execution_count": 9,
      "outputs": []
    },
    {
      "cell_type": "code",
      "source": [
        "\n",
        "# Drop rows with missing values\n",
        "movies.dropna(inplace=True)"
      ],
      "metadata": {
        "execution": {
          "iopub.status.busy": "2021-06-21T12:36:50.059006Z",
          "iopub.execute_input": "2021-06-21T12:36:50.059538Z",
          "iopub.status.idle": "2021-06-21T12:36:50.073095Z",
          "shell.execute_reply.started": "2021-06-21T12:36:50.059504Z",
          "shell.execute_reply": "2021-06-21T12:36:50.071577Z"
        },
        "trusted": true,
        "id": "Rw4msRoIA2rs"
      },
      "execution_count": 10,
      "outputs": []
    },
    {
      "cell_type": "code",
      "source": [
        "# Apply the convert function to 'genres' column\n",
        "movies['genres'] = movies['genres'].apply(convert)\n",
        "movies.head()"
      ],
      "metadata": {
        "execution": {
          "iopub.status.busy": "2021-06-21T12:36:52.343645Z",
          "iopub.execute_input": "2021-06-21T12:36:52.344121Z",
          "iopub.status.idle": "2021-06-21T12:36:52.523910Z",
          "shell.execute_reply.started": "2021-06-21T12:36:52.344082Z",
          "shell.execute_reply": "2021-06-21T12:36:52.522805Z"
        },
        "trusted": true,
        "id": "miIzXJ_IA2rs"
      },
      "execution_count": null,
      "outputs": []
    },
    {
      "cell_type": "code",
      "source": [
        "# Apply the convert function to 'keywords' column\n",
        "movies['keywords'] = movies['keywords'].apply(convert)\n",
        "movies.head()"
      ],
      "metadata": {
        "execution": {
          "iopub.status.busy": "2021-06-21T12:36:55.304070Z",
          "iopub.execute_input": "2021-06-21T12:36:55.304439Z",
          "iopub.status.idle": "2021-06-21T12:36:55.738525Z",
          "shell.execute_reply.started": "2021-06-21T12:36:55.304408Z",
          "shell.execute_reply": "2021-06-21T12:36:55.737123Z"
        },
        "trusted": true,
        "id": "NGZjKvocA2rs"
      },
      "execution_count": null,
      "outputs": []
    },
    {
      "cell_type": "code",
      "source": [
        "import ast\n",
        "ast.literal_eval('[{\"id\": 28, \"name\": \"Action\"}, {\"id\": 12, \"name\": \"Adventure\"}, {\"id\": 14, \"name\": \"Fantasy\"}, {\"id\": 878, \"name\": \"Science Fiction\"}]')"
      ],
      "metadata": {
        "execution": {
          "iopub.status.busy": "2021-06-19T13:07:21.572154Z",
          "iopub.execute_input": "2021-06-19T13:07:21.572473Z",
          "iopub.status.idle": "2021-06-19T13:07:21.578686Z",
          "shell.execute_reply.started": "2021-06-19T13:07:21.572446Z",
          "shell.execute_reply": "2021-06-19T13:07:21.577661Z"
        },
        "trusted": true,
        "id": "z0oFAatgA2rt"
      },
      "execution_count": null,
      "outputs": []
    },
    {
      "cell_type": "code",
      "source": [
        "# Function is used to fetch top Three cast\n",
        "def convert3(text):\n",
        "    L = []\n",
        "    counter = 0\n",
        "    for i in ast.literal_eval(text):\n",
        "        if counter < 3:\n",
        "            L.append(i['name'])\n",
        "        counter+=1\n",
        "    return L"
      ],
      "metadata": {
        "execution": {
          "iopub.status.busy": "2021-06-21T12:36:59.510859Z",
          "iopub.execute_input": "2021-06-21T12:36:59.511226Z",
          "iopub.status.idle": "2021-06-21T12:36:59.517043Z",
          "shell.execute_reply.started": "2021-06-21T12:36:59.511192Z",
          "shell.execute_reply": "2021-06-21T12:36:59.515878Z"
        },
        "trusted": true,
        "id": "YofhDW3ZA2rt"
      },
      "execution_count": 14,
      "outputs": []
    },
    {
      "cell_type": "code",
      "source": [
        "movies['cast'] = movies['cast'].apply(convert)\n",
        "movies.head()"
      ],
      "metadata": {
        "execution": {
          "iopub.status.busy": "2021-06-21T12:37:00.828661Z",
          "iopub.execute_input": "2021-06-21T12:37:00.829409Z",
          "iopub.status.idle": "2021-06-21T12:37:04.117090Z",
          "shell.execute_reply.started": "2021-06-21T12:37:00.829355Z",
          "shell.execute_reply": "2021-06-21T12:37:04.115822Z"
        },
        "trusted": true,
        "id": "CA4HsWeNA2rt"
      },
      "execution_count": null,
      "outputs": []
    },
    {
      "cell_type": "code",
      "source": [
        "# Function to extract only the first 3 elements from the lis\n",
        "movies['cast'] = movies['cast'].apply(lambda x:x[0:3])"
      ],
      "metadata": {
        "execution": {
          "iopub.status.busy": "2021-06-21T12:37:07.352464Z",
          "iopub.execute_input": "2021-06-21T12:37:07.352886Z",
          "iopub.status.idle": "2021-06-21T12:37:07.367808Z",
          "shell.execute_reply.started": "2021-06-21T12:37:07.352854Z",
          "shell.execute_reply": "2021-06-21T12:37:07.366250Z"
        },
        "trusted": true,
        "id": "8rzkvnjQA2rt"
      },
      "execution_count": 16,
      "outputs": []
    },
    {
      "cell_type": "code",
      "source": [
        "# Function is used to fetch director\n",
        "def fetch_director(text):\n",
        "    L = []\n",
        "    for i in ast.literal_eval(text):\n",
        "        if i['job'] == 'Director':\n",
        "            L.append(i['name'])\n",
        "    return L"
      ],
      "metadata": {
        "execution": {
          "iopub.status.busy": "2021-06-21T12:37:09.762909Z",
          "iopub.execute_input": "2021-06-21T12:37:09.763317Z",
          "iopub.status.idle": "2021-06-21T12:37:09.770917Z",
          "shell.execute_reply.started": "2021-06-21T12:37:09.763278Z",
          "shell.execute_reply": "2021-06-21T12:37:09.770002Z"
        },
        "trusted": true,
        "id": "a-OmoxktA2rt"
      },
      "execution_count": 17,
      "outputs": []
    },
    {
      "cell_type": "code",
      "source": [
        "movies['crew'] = movies['crew'].apply(fetch_director)"
      ],
      "metadata": {
        "execution": {
          "iopub.status.busy": "2021-06-21T12:37:12.189921Z",
          "iopub.execute_input": "2021-06-21T12:37:12.190468Z",
          "iopub.status.idle": "2021-06-21T12:37:15.825662Z",
          "shell.execute_reply.started": "2021-06-21T12:37:12.190407Z",
          "shell.execute_reply": "2021-06-21T12:37:15.824562Z"
        },
        "trusted": true,
        "id": "Ofi7X16NA2rt"
      },
      "execution_count": 18,
      "outputs": []
    },
    {
      "cell_type": "code",
      "source": [
        "#movies['overview'] = movies['overview'].apply(lambda x:x.split())\n",
        "movies.sample(5)"
      ],
      "metadata": {
        "execution": {
          "iopub.status.busy": "2021-06-21T12:34:54.994397Z",
          "iopub.execute_input": "2021-06-21T12:34:54.994779Z",
          "iopub.status.idle": "2021-06-21T12:34:55.019276Z",
          "shell.execute_reply.started": "2021-06-21T12:34:54.994738Z",
          "shell.execute_reply": "2021-06-21T12:34:55.017718Z"
        },
        "trusted": true,
        "id": "upKIbEvaA2rt"
      },
      "execution_count": null,
      "outputs": []
    },
    {
      "cell_type": "code",
      "source": [
        "# Function is used to remove spaces between names,genres,keywords\n",
        "def collapse(L):\n",
        "    L1 = []\n",
        "    for i in L:\n",
        "        L1.append(i.replace(\" \",\"\"))\n",
        "    return L1"
      ],
      "metadata": {
        "execution": {
          "iopub.status.busy": "2021-06-21T12:37:20.072749Z",
          "iopub.execute_input": "2021-06-21T12:37:20.073320Z",
          "iopub.status.idle": "2021-06-21T12:37:20.079118Z",
          "shell.execute_reply.started": "2021-06-21T12:37:20.073270Z",
          "shell.execute_reply": "2021-06-21T12:37:20.077997Z"
        },
        "trusted": true,
        "id": "iwZFsBy5A2rt"
      },
      "execution_count": 20,
      "outputs": []
    },
    {
      "cell_type": "code",
      "source": [
        "movies['cast'] = movies['cast'].apply(collapse)\n",
        "movies['crew'] = movies['crew'].apply(collapse)\n",
        "movies['genres'] = movies['genres'].apply(collapse)\n",
        "movies['keywords'] = movies['keywords'].apply(collapse)"
      ],
      "metadata": {
        "execution": {
          "iopub.status.busy": "2021-06-21T12:37:21.282768Z",
          "iopub.execute_input": "2021-06-21T12:37:21.283329Z",
          "iopub.status.idle": "2021-06-21T12:37:21.486755Z",
          "shell.execute_reply.started": "2021-06-21T12:37:21.283292Z",
          "shell.execute_reply": "2021-06-21T12:37:21.485878Z"
        },
        "trusted": true,
        "id": "r42d2iexA2rt"
      },
      "execution_count": 21,
      "outputs": []
    },
    {
      "cell_type": "code",
      "source": [
        "movies.head()"
      ],
      "metadata": {
        "execution": {
          "iopub.status.busy": "2021-06-21T12:35:23.278025Z",
          "iopub.execute_input": "2021-06-21T12:35:23.278589Z",
          "iopub.status.idle": "2021-06-21T12:35:23.311346Z",
          "shell.execute_reply.started": "2021-06-21T12:35:23.278539Z",
          "shell.execute_reply": "2021-06-21T12:35:23.309971Z"
        },
        "trusted": true,
        "id": "txW4dqgXA2ru"
      },
      "execution_count": null,
      "outputs": []
    },
    {
      "cell_type": "code",
      "source": [
        "# Split 'overview' column into list of words\n",
        "movies['overview'] = movies['overview'].apply(lambda x:x.split())"
      ],
      "metadata": {
        "execution": {
          "iopub.status.busy": "2021-06-21T12:37:31.936003Z",
          "iopub.execute_input": "2021-06-21T12:37:31.936583Z",
          "iopub.status.idle": "2021-06-21T12:37:31.975155Z",
          "shell.execute_reply.started": "2021-06-21T12:37:31.936546Z",
          "shell.execute_reply": "2021-06-21T12:37:31.973928Z"
        },
        "trusted": true,
        "id": "79FT32VyA2ru"
      },
      "execution_count": 22,
      "outputs": []
    },
    {
      "cell_type": "code",
      "source": [
        "# Merging few columns and forming a new columns tags\n",
        "movies['tags'] = movies['overview'] + movies['genres'] + movies['keywords'] + movies['cast'] + movies['crew']"
      ],
      "metadata": {
        "execution": {
          "iopub.status.busy": "2021-06-21T12:37:34.465925Z",
          "iopub.execute_input": "2021-06-21T12:37:34.466349Z",
          "iopub.status.idle": "2021-06-21T12:37:34.572742Z",
          "shell.execute_reply.started": "2021-06-21T12:37:34.466313Z",
          "shell.execute_reply": "2021-06-21T12:37:34.571676Z"
        },
        "trusted": true,
        "id": "tW7nuNqLA2ru"
      },
      "execution_count": 23,
      "outputs": []
    },
    {
      "cell_type": "code",
      "source": [
        "# Dropping the remaning columns\n",
        "new = movies.drop(columns=['overview','genres','keywords','cast','crew'])\n",
        "#new.head()"
      ],
      "metadata": {
        "execution": {
          "iopub.status.busy": "2021-06-21T12:37:40.974644Z",
          "iopub.execute_input": "2021-06-21T12:37:40.975174Z",
          "iopub.status.idle": "2021-06-21T12:37:40.981843Z",
          "shell.execute_reply.started": "2021-06-21T12:37:40.975140Z",
          "shell.execute_reply": "2021-06-21T12:37:40.981059Z"
        },
        "trusted": true,
        "id": "aJuzC-XtA2ru"
      },
      "execution_count": 24,
      "outputs": []
    },
    {
      "cell_type": "code",
      "source": [
        "# converting the tags column to string\n",
        "new['tags'] = new['tags'].apply(lambda x: \" \".join(x))\n",
        "new.head()"
      ],
      "metadata": {
        "execution": {
          "iopub.status.busy": "2021-06-21T12:38:00.130879Z",
          "iopub.execute_input": "2021-06-21T12:38:00.131473Z",
          "iopub.status.idle": "2021-06-21T12:38:00.160438Z",
          "shell.execute_reply.started": "2021-06-21T12:38:00.131439Z",
          "shell.execute_reply": "2021-06-21T12:38:00.159476Z"
        },
        "trusted": true,
        "id": "SiRINF63A2ru"
      },
      "execution_count": null,
      "outputs": []
    },
    {
      "cell_type": "code",
      "source": [
        "#Importing CountVectorizer from sklearn to covert all character into vector form\n",
        "from sklearn.feature_extraction.text import CountVectorizer\n",
        "cv = CountVectorizer(max_features=5000,stop_words='english')\n",
        ""
      ],
      "metadata": {
        "execution": {
          "iopub.status.busy": "2021-06-21T12:38:06.544599Z",
          "iopub.execute_input": "2021-06-21T12:38:06.545110Z",
          "iopub.status.idle": "2021-06-21T12:38:07.488307Z",
          "shell.execute_reply.started": "2021-06-21T12:38:06.545079Z",
          "shell.execute_reply": "2021-06-21T12:38:07.487238Z"
        },
        "trusted": true,
        "id": "7KDphwH2A2ru"
      },
      "execution_count": 26,
      "outputs": []
    },
    {
      "cell_type": "code",
      "source": [
        "# coverting into vector\n",
        "vector = cv.fit_transform(new['tags']).toarray()"
      ],
      "metadata": {
        "execution": {
          "iopub.status.busy": "2021-06-21T12:38:10.163889Z",
          "iopub.execute_input": "2021-06-21T12:38:10.164314Z",
          "iopub.status.idle": "2021-06-21T12:38:10.821200Z",
          "shell.execute_reply.started": "2021-06-21T12:38:10.164279Z",
          "shell.execute_reply": "2021-06-21T12:38:10.820175Z"
        },
        "trusted": true,
        "id": "k7Wl-ExeA2ru"
      },
      "execution_count": 27,
      "outputs": []
    },
    {
      "cell_type": "code",
      "source": [
        "vector.shape"
      ],
      "metadata": {
        "execution": {
          "iopub.status.busy": "2021-06-19T14:00:41.894223Z",
          "iopub.execute_input": "2021-06-19T14:00:41.894747Z",
          "iopub.status.idle": "2021-06-19T14:00:41.900786Z",
          "shell.execute_reply.started": "2021-06-19T14:00:41.894699Z",
          "shell.execute_reply": "2021-06-19T14:00:41.899989Z"
        },
        "trusted": true,
        "id": "cq_jmecwA2ru"
      },
      "execution_count": null,
      "outputs": []
    },
    {
      "cell_type": "code",
      "source": [
        "# importing cosine_similarity to calculate distance between vectors\n",
        "from sklearn.metrics.pairwise import cosine_similarity"
      ],
      "metadata": {
        "execution": {
          "iopub.status.busy": "2021-06-21T12:38:13.339041Z",
          "iopub.execute_input": "2021-06-21T12:38:13.339451Z",
          "iopub.status.idle": "2021-06-21T12:38:13.390575Z",
          "shell.execute_reply.started": "2021-06-21T12:38:13.339412Z",
          "shell.execute_reply": "2021-06-21T12:38:13.389373Z"
        },
        "trusted": true,
        "id": "Z3LEpAOTA2ru"
      },
      "execution_count": 29,
      "outputs": []
    },
    {
      "cell_type": "code",
      "source": [
        "similarity = cosine_similarity(vector)"
      ],
      "metadata": {
        "execution": {
          "iopub.status.busy": "2021-06-21T12:38:15.769495Z",
          "iopub.execute_input": "2021-06-21T12:38:15.770001Z",
          "iopub.status.idle": "2021-06-21T12:38:18.170463Z",
          "shell.execute_reply.started": "2021-06-21T12:38:15.769960Z",
          "shell.execute_reply": "2021-06-21T12:38:18.169319Z"
        },
        "trusted": true,
        "id": "tomM3Js3A2rv"
      },
      "execution_count": 30,
      "outputs": []
    },
    {
      "cell_type": "code",
      "source": [
        "similarity"
      ],
      "metadata": {
        "execution": {
          "iopub.status.busy": "2021-06-19T14:06:45.472777Z",
          "iopub.execute_input": "2021-06-19T14:06:45.473087Z",
          "iopub.status.idle": "2021-06-19T14:06:45.479647Z",
          "shell.execute_reply.started": "2021-06-19T14:06:45.473061Z",
          "shell.execute_reply": "2021-06-19T14:06:45.478831Z"
        },
        "trusted": true,
        "id": "HUfV8E7vA2rv"
      },
      "execution_count": null,
      "outputs": []
    },
    {
      "cell_type": "code",
      "source": [
        "#this line of code is used to find the index of the row in the DataFrame new that corresponds to the movie titled 'The Lego Movie'.\n",
        "new[new['title'] == 'The Lego Movie'].index[0]"
      ],
      "metadata": {
        "execution": {
          "iopub.status.busy": "2021-06-19T14:08:46.7159Z",
          "iopub.execute_input": "2021-06-19T14:08:46.716222Z",
          "iopub.status.idle": "2021-06-19T14:08:46.7239Z",
          "shell.execute_reply.started": "2021-06-19T14:08:46.716196Z",
          "shell.execute_reply": "2021-06-19T14:08:46.722946Z"
        },
        "trusted": true,
        "colab": {
          "base_uri": "https://localhost:8080/"
        },
        "id": "ZVJ7o1WoA2rv",
        "outputId": "37c7a907-ed22-434c-9f11-62c35fac9cb0"
      },
      "execution_count": 32,
      "outputs": [
        {
          "output_type": "execute_result",
          "data": {
            "text/plain": [
              "744"
            ]
          },
          "metadata": {},
          "execution_count": 32
        }
      ]
    },
    {
      "cell_type": "code",
      "source": [
        "# Function to recommend similar movies based on input movie title\n",
        "def recommend(movie):\n",
        "    index = new[new['title'] == movie].index[0]\n",
        "    distances = sorted(list(enumerate(similarity[index])),reverse=True,key = lambda x: x[1])\n",
        "    for i in distances[1:6]:\n",
        "        print(new.iloc[i[0]].title)\n",
        "\n",
        ""
      ],
      "metadata": {
        "execution": {
          "iopub.status.busy": "2021-06-21T12:38:22.542487Z",
          "iopub.execute_input": "2021-06-21T12:38:22.542900Z",
          "iopub.status.idle": "2021-06-21T12:38:22.549786Z",
          "shell.execute_reply.started": "2021-06-21T12:38:22.542867Z",
          "shell.execute_reply": "2021-06-21T12:38:22.548271Z"
        },
        "trusted": true,
        "id": "6wkeKbTHA2rv"
      },
      "execution_count": 33,
      "outputs": []
    },
    {
      "cell_type": "code",
      "source": [
        "# Recommending movies which are like batman\n",
        "recommend('Batman')"
      ],
      "metadata": {
        "execution": {
          "iopub.status.busy": "2021-06-21T12:38:24.914258Z",
          "iopub.execute_input": "2021-06-21T12:38:24.914650Z",
          "iopub.status.idle": "2021-06-21T12:38:24.930018Z",
          "shell.execute_reply.started": "2021-06-21T12:38:24.914616Z",
          "shell.execute_reply": "2021-06-21T12:38:24.928876Z"
        },
        "trusted": true,
        "colab": {
          "base_uri": "https://localhost:8080/"
        },
        "id": "Ac_i9wQjA2rv",
        "outputId": "1bbb1c06-bb62-4320-a19f-c358dae26ef3"
      },
      "execution_count": 35,
      "outputs": [
        {
          "output_type": "stream",
          "name": "stdout",
          "text": [
            "Batman\n",
            "Batman & Robin\n",
            "The Dark Knight Rises\n",
            "Batman Begins\n",
            "Batman Returns\n"
          ]
        }
      ]
    },
    {
      "cell_type": "code",
      "source": [
        "#Pickle is a Python module used for serializing and deserializing Python objects\n",
        "import pickle"
      ],
      "metadata": {
        "execution": {
          "iopub.status.busy": "2021-06-21T12:39:59.606475Z",
          "iopub.execute_input": "2021-06-21T12:39:59.606924Z",
          "iopub.status.idle": "2021-06-21T12:39:59.612177Z",
          "shell.execute_reply.started": "2021-06-21T12:39:59.606890Z",
          "shell.execute_reply": "2021-06-21T12:39:59.610858Z"
        },
        "trusted": true,
        "id": "KGdrEVPOA2rv"
      },
      "execution_count": 39,
      "outputs": []
    },
    {
      "cell_type": "code",
      "source": [
        "# Save new DataFrame and similarity matrix to pickle files\n",
        "pickle.dump(new,open('movie_list.pkl','wb'))\n",
        "pickle.dump(similarity,open('similarity.pkl','wb'))"
      ],
      "metadata": {
        "execution": {
          "iopub.status.busy": "2021-06-21T12:40:53.373186Z",
          "iopub.execute_input": "2021-06-21T12:40:53.373581Z",
          "iopub.status.idle": "2021-06-21T12:40:53.784869Z",
          "shell.execute_reply.started": "2021-06-21T12:40:53.373547Z",
          "shell.execute_reply": "2021-06-21T12:40:53.783635Z"
        },
        "trusted": true,
        "id": "jeNArojqA2rv"
      },
      "execution_count": 40,
      "outputs": []
    },
    {
      "cell_type": "code",
      "source": [],
      "metadata": {
        "id": "hyjMiGudA2rw"
      },
      "execution_count": null,
      "outputs": []
    }
  ]
}